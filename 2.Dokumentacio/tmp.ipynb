{
 "cells": [
  {
   "cell_type": "code",
   "execution_count": 5,
   "metadata": {},
   "outputs": [
    {
     "ename": "error",
     "evalue": "OpenCV(4.7.0) D:\\a\\opencv-python\\opencv-python\\opencv\\modules\\imgproc\\src\\color.cpp:182: error: (-215:Assertion failed) !_src.empty() in function 'cv::cvtColor'\n",
     "output_type": "error",
     "traceback": [
      "\u001b[1;31m---------------------------------------------------------------------------\u001b[0m",
      "\u001b[1;31merror\u001b[0m                                     Traceback (most recent call last)",
      "\u001b[1;32md:\\Work_Dani\\ACSG_P&P_Robot\\2.Dokumentacio\\tmp.ipynb Cell 1\u001b[0m in \u001b[0;36m<cell line: 6>\u001b[1;34m()\u001b[0m\n\u001b[0;32m      <a href='vscode-notebook-cell:/d%3A/Work_Dani/ACSG_P%26P_Robot/2.Dokumentacio/tmp.ipynb#W0sZmlsZQ%3D%3D?line=3'>4</a>\u001b[0m ori \u001b[39m=\u001b[39m cv2\u001b[39m.\u001b[39mimread(imput_img)\n\u001b[0;32m      <a href='vscode-notebook-cell:/d%3A/Work_Dani/ACSG_P%26P_Robot/2.Dokumentacio/tmp.ipynb#W0sZmlsZQ%3D%3D?line=4'>5</a>\u001b[0m image \u001b[39m=\u001b[39m cv2\u001b[39m.\u001b[39mimread(imput_img)\n\u001b[1;32m----> <a href='vscode-notebook-cell:/d%3A/Work_Dani/ACSG_P%26P_Robot/2.Dokumentacio/tmp.ipynb#W0sZmlsZQ%3D%3D?line=5'>6</a>\u001b[0m gray \u001b[39m=\u001b[39m cv2\u001b[39m.\u001b[39;49mcvtColor(image,cv2\u001b[39m.\u001b[39;49mCOLOR_BGR2GRAY)\n\u001b[0;32m      <a href='vscode-notebook-cell:/d%3A/Work_Dani/ACSG_P%26P_Robot/2.Dokumentacio/tmp.ipynb#W0sZmlsZQ%3D%3D?line=6'>7</a>\u001b[0m gray \u001b[39m=\u001b[39m np\u001b[39m.\u001b[39mfloat32(gray)\n\u001b[0;32m      <a href='vscode-notebook-cell:/d%3A/Work_Dani/ACSG_P%26P_Robot/2.Dokumentacio/tmp.ipynb#W0sZmlsZQ%3D%3D?line=7'>8</a>\u001b[0m dst \u001b[39m=\u001b[39m cv2\u001b[39m.\u001b[39mcornerHarris(gray,\u001b[39m2\u001b[39m,\u001b[39m3\u001b[39m,\u001b[39m0.04\u001b[39m)\n",
      "\u001b[1;31merror\u001b[0m: OpenCV(4.7.0) D:\\a\\opencv-python\\opencv-python\\opencv\\modules\\imgproc\\src\\color.cpp:182: error: (-215:Assertion failed) !_src.empty() in function 'cv::cvtColor'\n"
     ]
    }
   ],
   "source": [
    "import cv2\n",
    "import numpy as np \n",
    "imput_img = 'csatlakozo.png'\n",
    "ori = cv2.imread(imput_img)\n",
    "image = cv2.imread(imput_img)\n",
    "gray = cv2.cvtColor(image,cv2.COLOR_BGR2GRAY)\n",
    "gray = np.float32(gray)\n",
    "dst = cv2.cornerHarris(gray,2,3,0.04)\n",
    "dst = cv2.dilate(dst,None)\n",
    "image[dst>0.01*dst.max()]=[0,0,255]\n",
    "cv2.imshow('Original',ori) \n",
    "cv2.imshow('Harris',image)\n",
    "if cv2.waitKey(0) & 0xff == 27:\n",
    "    cv2.destroyAllWindows()"
   ]
  },
  {
   "cell_type": "code",
   "execution_count": 3,
   "metadata": {},
   "outputs": [
    {
     "name": "stdout",
     "output_type": "stream",
     "text": [
      "Collecting opencv-python\n",
      "  Downloading opencv_python-4.7.0.72-cp37-abi3-win_amd64.whl (38.2 MB)\n",
      "Requirement already satisfied: numpy>=1.17.3 in d:\\programok\\anaconda\\lib\\site-packages (from opencv-python) (1.21.5)\n",
      "Installing collected packages: opencv-python\n",
      "Successfully installed opencv-python-4.7.0.72\n",
      "Note: you may need to restart the kernel to use updated packages.\n"
     ]
    }
   ],
   "source": [
    "%pip install opencv-python"
   ]
  },
  {
   "cell_type": "code",
   "execution_count": null,
   "metadata": {},
   "outputs": [],
   "source": []
  }
 ],
 "metadata": {
  "kernelspec": {
   "display_name": "base",
   "language": "python",
   "name": "python3"
  },
  "language_info": {
   "codemirror_mode": {
    "name": "ipython",
    "version": 3
   },
   "file_extension": ".py",
   "mimetype": "text/x-python",
   "name": "python",
   "nbconvert_exporter": "python",
   "pygments_lexer": "ipython3",
   "version": "3.9.12"
  },
  "orig_nbformat": 4
 },
 "nbformat": 4,
 "nbformat_minor": 2
}
